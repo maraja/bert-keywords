{
 "cells": [
  {
   "cell_type": "code",
   "execution_count": 9,
   "id": "432f52e7",
   "metadata": {},
   "outputs": [],
   "source": [
    "from transformers import AutoTokenizer, AutoModel\n",
    "import numpy as np\n",
    "import torch\n",
    "import re"
   ]
  },
  {
   "cell_type": "code",
   "execution_count": 3,
   "id": "4967c50f",
   "metadata": {},
   "outputs": [
    {
     "data": {
      "application/vnd.jupyter.widget-view+json": {
       "model_id": "b10eba7722c04374a5250c4e84b268f3",
       "version_major": 2,
       "version_minor": 0
      },
      "text/plain": [
       "Downloading:   0%|          | 0.00/29.0 [00:00<?, ?B/s]"
      ]
     },
     "metadata": {},
     "output_type": "display_data"
    },
    {
     "data": {
      "application/vnd.jupyter.widget-view+json": {
       "model_id": "d9745e4f555546eeb79d16ac7b5bbd89",
       "version_major": 2,
       "version_minor": 0
      },
      "text/plain": [
       "Downloading:   0%|          | 0.00/570 [00:00<?, ?B/s]"
      ]
     },
     "metadata": {},
     "output_type": "display_data"
    },
    {
     "data": {
      "application/vnd.jupyter.widget-view+json": {
       "model_id": "95ec774fc98048cfabfea73fa1ae035d",
       "version_major": 2,
       "version_minor": 0
      },
      "text/plain": [
       "Downloading:   0%|          | 0.00/213k [00:00<?, ?B/s]"
      ]
     },
     "metadata": {},
     "output_type": "display_data"
    },
    {
     "data": {
      "application/vnd.jupyter.widget-view+json": {
       "model_id": "e376b792c5934c51bbb591cae14728c6",
       "version_major": 2,
       "version_minor": 0
      },
      "text/plain": [
       "Downloading:   0%|          | 0.00/436k [00:00<?, ?B/s]"
      ]
     },
     "metadata": {},
     "output_type": "display_data"
    },
    {
     "data": {
      "application/vnd.jupyter.widget-view+json": {
       "model_id": "a996ce3998d840659c1904470b733c2a",
       "version_major": 2,
       "version_minor": 0
      },
      "text/plain": [
       "Downloading:   0%|          | 0.00/436M [00:00<?, ?B/s]"
      ]
     },
     "metadata": {},
     "output_type": "display_data"
    },
    {
     "name": "stderr",
     "output_type": "stream",
     "text": [
      "Some weights of the model checkpoint at bert-base-cased were not used when initializing BertModel: ['cls.predictions.transform.LayerNorm.bias', 'cls.predictions.decoder.weight', 'cls.predictions.transform.dense.weight', 'cls.seq_relationship.weight', 'cls.seq_relationship.bias', 'cls.predictions.transform.LayerNorm.weight', 'cls.predictions.bias', 'cls.predictions.transform.dense.bias']\n",
      "- This IS expected if you are initializing BertModel from the checkpoint of a model trained on another task or with another architecture (e.g. initializing a BertForSequenceClassification model from a BertForPreTraining model).\n",
      "- This IS NOT expected if you are initializing BertModel from the checkpoint of a model that you expect to be exactly identical (initializing a BertForSequenceClassification model from a BertForSequenceClassification model).\n"
     ]
    }
   ],
   "source": [
    "tokenizer = AutoTokenizer.from_pretrained('bert-base-cased')\n",
    "model = AutoModel.from_pretrained('bert-base-cased', output_hidden_states=True).eval()"
   ]
  },
  {
   "cell_type": "code",
   "execution_count": 4,
   "id": "7323f0d0",
   "metadata": {},
   "outputs": [],
   "source": [
    "sent1 = 'Horizontal diplopia  worse in left gaze and with distance fixation  suggests limitation of left lateral rectus movement '\n",
    "sent2 = 'If the horizontal diplopia had been worse at near e g   while reading  the right medial rectus would be culpable since a near vision task like reading requires convergence and active medial rectus contraction '"
   ]
  },
  {
   "cell_type": "code",
   "execution_count": 5,
   "id": "4948381f",
   "metadata": {},
   "outputs": [],
   "source": [
    "tok1 = tokenizer(sent1, return_tensors='pt')\n",
    "tok2 = tokenizer(sent2, return_tensors='pt')"
   ]
  },
  {
   "cell_type": "code",
   "execution_count": 7,
   "id": "bc305598",
   "metadata": {},
   "outputs": [],
   "source": [
    "# diplopia\n",
    "sent1_idxs = [1]\n",
    "sent2_idxs = [3]\n",
    "\n",
    "tok1_ids = [np.where(np.array(tok1.word_ids()) == idx) for idx in sent1_idxs]\n",
    "tok2_ids = [np.where(np.array(tok2.word_ids()) == idx) for idx in sent2_idxs]\n",
    "\n",
    "with torch.no_grad():\n",
    "    out1 = model(**tok1)\n",
    "    out2 = model(**tok2)\n",
    "\n",
    "# Only grab the last hidden state\n",
    "states1 = out1.hidden_states[-1].squeeze()\n",
    "states2 = out2.hidden_states[-1].squeeze()\n",
    "\n",
    "# Select the tokens that we're after corresponding to \"Diplopia\"\n",
    "embs1 = states1[[tup[0][0] for tup in tok1_ids]]\n",
    "embs2 = states2[[tup[0][0] for tup in tok2_ids]]"
   ]
  },
  {
   "cell_type": "code",
   "execution_count": 8,
   "id": "f0fb4612",
   "metadata": {},
   "outputs": [
    {
     "data": {
      "text/plain": [
       "tensor([0.9484])"
      ]
     },
     "execution_count": 8,
     "metadata": {},
     "output_type": "execute_result"
    }
   ],
   "source": [
    "torch.cosine_similarity(embs1.reshape(1,-1), embs2.reshape(1,-1))"
   ]
  },
  {
   "cell_type": "markdown",
   "id": "2339e1bb",
   "metadata": {},
   "source": [
    "## Utility function"
   ]
  },
  {
   "cell_type": "code",
   "execution_count": 38,
   "id": "0d4cc3d2",
   "metadata": {},
   "outputs": [],
   "source": [
    "def get_word_embedding(model: AutoModel, sentence: str, word: str, index: int=None):\n",
    "    clean_sentence = re.sub(' +', ' ', sentence) # remove subsequent spaces\n",
    "    if index is None:\n",
    "        for i, _word in enumerate(clean_sentence.split(' ')):\n",
    "            if _word.lower() == word.lower():\n",
    "                index = i\n",
    "                break\n",
    "\n",
    "    assert index is not None, \"Error: word not found in provided sentence.\"\n",
    "    tokens = tokenizer(clean_sentence, return_tensors='pt')\n",
    "\n",
    "    token_ids = [np.where(np.array(tokens.word_ids()) == idx) for idx in [index]]\n",
    "\n",
    "    with torch.no_grad():\n",
    "        output = model(**tokens)\n",
    "    \n",
    "    # Only grab the last hidden state\n",
    "    hidden_states = output.hidden_states[-1].squeeze()\n",
    "\n",
    "    # Select the tokens that we're after corresponding to the word provided\n",
    "    embedding = hidden_states[[tup[0][0] for tup in token_ids]]\n",
    "    return embedding"
   ]
  },
  {
   "cell_type": "code",
   "execution_count": 44,
   "id": "6f22a814",
   "metadata": {},
   "outputs": [],
   "source": [
    "# # test of the above.\n",
    "# model = AutoModel.from_pretrained('bert-base-cased', output_hidden_states=True).eval()\n",
    "# get_word_embedding(model, \"this is a sentence\", \"sentence\")"
   ]
  },
  {
   "cell_type": "code",
   "execution_count": 40,
   "id": "f4164d41",
   "metadata": {},
   "outputs": [],
   "source": [
    "def get_similarity(emb1: torch.tensor, emb2: torch.tensor) -> torch.tensor:\n",
    "    return torch.cosine_similarity(emb1.reshape(1,-1), emb2.reshape(1,-1))"
   ]
  },
  {
   "cell_type": "code",
   "execution_count": 43,
   "id": "a3e039ae",
   "metadata": {},
   "outputs": [
    {
     "data": {
      "text/plain": [
       "tensor([0.6752])"
      ]
     },
     "execution_count": 43,
     "metadata": {},
     "output_type": "execute_result"
    }
   ],
   "source": [
    "emb1 = get_word_embedding(model, \"this is a sentence\", \"sentence\")\n",
    "emb2 = get_word_embedding(model, \"this is yet another sentence\", \"this\")\n",
    "\n",
    "get_similarity(emb1, emb2)"
   ]
  },
  {
   "cell_type": "code",
   "execution_count": null,
   "id": "f981fc7c",
   "metadata": {},
   "outputs": [],
   "source": []
  }
 ],
 "metadata": {
  "kernelspec": {
   "display_name": "bert-keywords",
   "language": "python",
   "name": "bert-keywords"
  },
  "language_info": {
   "codemirror_mode": {
    "name": "ipython",
    "version": 3
   },
   "file_extension": ".py",
   "mimetype": "text/x-python",
   "name": "python",
   "nbconvert_exporter": "python",
   "pygments_lexer": "ipython3",
   "version": "3.9.15"
  }
 },
 "nbformat": 4,
 "nbformat_minor": 5
}
