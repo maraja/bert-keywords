{
 "cells": [
  {
   "cell_type": "code",
   "execution_count": 1,
   "id": "5e532bb7",
   "metadata": {},
   "outputs": [],
   "source": [
    "%load_ext autoreload\n",
    "%autoreload 2\n",
    "\n",
    "import sys, os\n",
    "import config\n",
    "\n",
    "config.root_path = os.path.abspath(os.path.join(os.getcwd(), \"..\"))\n",
    "sys.path.insert(0, config.root_path)"
   ]
  },
  {
   "cell_type": "code",
   "execution_count": 2,
   "id": "106651dd",
   "metadata": {},
   "outputs": [],
   "source": [
    "from src.similarities import Embedding, Similarities"
   ]
  },
  {
   "cell_type": "code",
   "execution_count": 5,
   "id": "3ebe2b7a",
   "metadata": {},
   "outputs": [
    {
     "name": "stderr",
     "output_type": "stream",
     "text": [
      "Some weights of the model checkpoint at bert-base-uncased were not used when initializing BertModel: ['cls.predictions.transform.dense.weight', 'cls.predictions.bias', 'cls.seq_relationship.bias', 'cls.seq_relationship.weight', 'cls.predictions.transform.dense.bias', 'cls.predictions.transform.LayerNorm.weight', 'cls.predictions.decoder.weight', 'cls.predictions.transform.LayerNorm.bias']\n",
      "- This IS expected if you are initializing BertModel from the checkpoint of a model trained on another task or with another architecture (e.g. initializing a BertForSequenceClassification model from a BertForPreTraining model).\n",
      "- This IS NOT expected if you are initializing BertModel from the checkpoint of a model that you expect to be exactly identical (initializing a BertForSequenceClassification model from a BertForSequenceClassification model).\n"
     ]
    }
   ],
   "source": [
    "similarities = Similarities('bert-base-uncased')\n",
    "embedding = Embedding(similarities.model, similarities.tokenizer)"
   ]
  },
  {
   "cell_type": "code",
   "execution_count": 10,
   "id": "e0928487",
   "metadata": {},
   "outputs": [],
   "source": [
    "emb1 = embedding.get_word_embedding(\"this is a sentence\", \"sentence\")\n",
    "emb2 = embedding.get_word_embedding(\"this is sentence\", \"sentence\")"
   ]
  },
  {
   "cell_type": "code",
   "execution_count": 11,
   "id": "d7ac9d6e",
   "metadata": {},
   "outputs": [
    {
     "data": {
      "text/plain": [
       "tensor([0.9080])"
      ]
     },
     "execution_count": 11,
     "metadata": {},
     "output_type": "execute_result"
    }
   ],
   "source": [
    "embedding.get_similarity(emb1, emb2)"
   ]
  },
  {
   "cell_type": "code",
   "execution_count": null,
   "id": "6249d90e",
   "metadata": {},
   "outputs": [],
   "source": []
  }
 ],
 "metadata": {
  "kernelspec": {
   "display_name": "bert-keywords",
   "language": "python",
   "name": "bert-keywords"
  },
  "language_info": {
   "codemirror_mode": {
    "name": "ipython",
    "version": 3
   },
   "file_extension": ".py",
   "mimetype": "text/x-python",
   "name": "python",
   "nbconvert_exporter": "python",
   "pygments_lexer": "ipython3",
   "version": "3.9.15"
  }
 },
 "nbformat": 4,
 "nbformat_minor": 5
}
