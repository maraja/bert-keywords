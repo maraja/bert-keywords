{
 "cells": [
  {
   "cell_type": "code",
   "execution_count": 1,
   "id": "070cc582",
   "metadata": {},
   "outputs": [
    {
     "data": {
      "application/javascript": [
       "\n",
       "            setTimeout(function() {\n",
       "                var nbb_cell_id = 1;\n",
       "                var nbb_unformatted_code = \"%load_ext nb_black\";\n",
       "                var nbb_formatted_code = \"%load_ext nb_black\";\n",
       "                var nbb_cells = Jupyter.notebook.get_cells();\n",
       "                for (var i = 0; i < nbb_cells.length; ++i) {\n",
       "                    if (nbb_cells[i].input_prompt_number == nbb_cell_id) {\n",
       "                        if (nbb_cells[i].get_text() == nbb_unformatted_code) {\n",
       "                             nbb_cells[i].set_text(nbb_formatted_code);\n",
       "                        }\n",
       "                        break;\n",
       "                    }\n",
       "                }\n",
       "            }, 500);\n",
       "            "
      ],
      "text/plain": [
       "<IPython.core.display.Javascript object>"
      ]
     },
     "metadata": {},
     "output_type": "display_data"
    }
   ],
   "source": [
    "%load_ext nb_black"
   ]
  },
  {
   "cell_type": "code",
   "execution_count": 15,
   "id": "c306e021",
   "metadata": {},
   "outputs": [
    {
     "name": "stdout",
     "output_type": "stream",
     "text": [
      "The autoreload extension is already loaded. To reload it, use:\n",
      "  %reload_ext autoreload\n"
     ]
    },
    {
     "data": {
      "application/javascript": [
       "\n",
       "            setTimeout(function() {\n",
       "                var nbb_cell_id = 15;\n",
       "                var nbb_unformatted_code = \"%load_ext autoreload\\n%autoreload 2\\n\\nimport pprint\\nimport sys, os\\nimport config\\nfrom typing import List, Tuple\\n\\nconfig.root_path = os.path.abspath(os.path.join(os.getcwd(), \\\"..\\\"))\\nsys.path.insert(0, config.root_path)\";\n",
       "                var nbb_formatted_code = \"%load_ext autoreload\\n%autoreload 2\\n\\nimport pprint\\nimport sys, os\\nimport config\\nfrom typing import List, Tuple\\n\\nconfig.root_path = os.path.abspath(os.path.join(os.getcwd(), \\\"..\\\"))\\nsys.path.insert(0, config.root_path)\";\n",
       "                var nbb_cells = Jupyter.notebook.get_cells();\n",
       "                for (var i = 0; i < nbb_cells.length; ++i) {\n",
       "                    if (nbb_cells[i].input_prompt_number == nbb_cell_id) {\n",
       "                        if (nbb_cells[i].get_text() == nbb_unformatted_code) {\n",
       "                             nbb_cells[i].set_text(nbb_formatted_code);\n",
       "                        }\n",
       "                        break;\n",
       "                    }\n",
       "                }\n",
       "            }, 500);\n",
       "            "
      ],
      "text/plain": [
       "<IPython.core.display.Javascript object>"
      ]
     },
     "metadata": {},
     "output_type": "display_data"
    }
   ],
   "source": [
    "%load_ext autoreload\n",
    "%autoreload 2\n",
    "\n",
    "import pprint\n",
    "import sys, os\n",
    "import config\n",
    "from typing import List, Tuple\n",
    "\n",
    "config.root_path = os.path.abspath(os.path.join(os.getcwd(), \"..\"))\n",
    "sys.path.insert(0, config.root_path)"
   ]
  },
  {
   "cell_type": "code",
   "execution_count": 16,
   "id": "f63d3e62",
   "metadata": {},
   "outputs": [
    {
     "name": "stderr",
     "output_type": "stream",
     "text": [
      "Some weights of the model checkpoint at bert-base-uncased were not used when initializing BertModel: ['cls.predictions.transform.dense.weight', 'cls.predictions.transform.dense.bias', 'cls.predictions.bias', 'cls.predictions.transform.LayerNorm.bias', 'cls.predictions.decoder.weight', 'cls.predictions.transform.LayerNorm.weight', 'cls.seq_relationship.weight', 'cls.seq_relationship.bias']\n",
      "- This IS expected if you are initializing BertModel from the checkpoint of a model trained on another task or with another architecture (e.g. initializing a BertForSequenceClassification model from a BertForPreTraining model).\n",
      "- This IS NOT expected if you are initializing BertModel from the checkpoint of a model that you expect to be exactly identical (initializing a BertForSequenceClassification model from a BertForSequenceClassification model).\n"
     ]
    },
    {
     "data": {
      "application/javascript": [
       "\n",
       "            setTimeout(function() {\n",
       "                var nbb_cell_id = 16;\n",
       "                var nbb_unformatted_code = \"from src.similarities import Embedding, Similarities\\nfrom src.keywords import Keywords\\nfrom src.data.lib_clinical_testing_data import get_testing_clinical_data\\n\\npp = pprint.PrettyPrinter(indent=4)\\nkeywords_lib = Keywords()\\nsimilarities_lib = Similarities(\\\"bert-base-uncased\\\")\\nembedding_lib = Embedding(similarities_lib.model, similarities_lib.tokenizer)\";\n",
       "                var nbb_formatted_code = \"from src.similarities import Embedding, Similarities\\nfrom src.keywords import Keywords\\nfrom src.data.lib_clinical_testing_data import get_testing_clinical_data\\n\\npp = pprint.PrettyPrinter(indent=4)\\nkeywords_lib = Keywords()\\nsimilarities_lib = Similarities(\\\"bert-base-uncased\\\")\\nembedding_lib = Embedding(similarities_lib.model, similarities_lib.tokenizer)\";\n",
       "                var nbb_cells = Jupyter.notebook.get_cells();\n",
       "                for (var i = 0; i < nbb_cells.length; ++i) {\n",
       "                    if (nbb_cells[i].input_prompt_number == nbb_cell_id) {\n",
       "                        if (nbb_cells[i].get_text() == nbb_unformatted_code) {\n",
       "                             nbb_cells[i].set_text(nbb_formatted_code);\n",
       "                        }\n",
       "                        break;\n",
       "                    }\n",
       "                }\n",
       "            }, 500);\n",
       "            "
      ],
      "text/plain": [
       "<IPython.core.display.Javascript object>"
      ]
     },
     "metadata": {},
     "output_type": "display_data"
    }
   ],
   "source": [
    "from src.similarities import Embedding, Similarities\n",
    "from src.keywords import Keywords\n",
    "from src.data.lib_clinical_testing_data import get_testing_clinical_data\n",
    "\n",
    "pp = pprint.PrettyPrinter(indent=4)\n",
    "keywords_lib = Keywords()\n",
    "similarities_lib = Similarities(\"bert-base-uncased\")\n",
    "embedding_lib = Embedding(similarities_lib.model, similarities_lib.tokenizer)"
   ]
  },
  {
   "cell_type": "code",
   "execution_count": 4,
   "id": "1733489c",
   "metadata": {},
   "outputs": [
    {
     "data": {
      "application/javascript": [
       "\n",
       "            setTimeout(function() {\n",
       "                var nbb_cell_id = 4;\n",
       "                var nbb_unformatted_code = \"data, labels = get_testing_clinical_data()\";\n",
       "                var nbb_formatted_code = \"data, labels = get_testing_clinical_data()\";\n",
       "                var nbb_cells = Jupyter.notebook.get_cells();\n",
       "                for (var i = 0; i < nbb_cells.length; ++i) {\n",
       "                    if (nbb_cells[i].input_prompt_number == nbb_cell_id) {\n",
       "                        if (nbb_cells[i].get_text() == nbb_unformatted_code) {\n",
       "                             nbb_cells[i].set_text(nbb_formatted_code);\n",
       "                        }\n",
       "                        break;\n",
       "                    }\n",
       "                }\n",
       "            }, 500);\n",
       "            "
      ],
      "text/plain": [
       "<IPython.core.display.Javascript object>"
      ]
     },
     "metadata": {},
     "output_type": "display_data"
    }
   ],
   "source": [
    "data, labels = get_testing_clinical_data()"
   ]
  },
  {
   "cell_type": "code",
   "execution_count": 18,
   "id": "be0b1816",
   "metadata": {},
   "outputs": [
    {
     "name": "stdout",
     "output_type": "stream",
     "text": [
      "[   ('continual', 'adolescence', tensor([0.0681])),\n",
      "    ('continual', 'growth', tensor([0.0177])),\n",
      "    ('continual', 'cessation', tensor([-0.0293])),\n",
      "    ('continual', 'development', tensor([0.1480])),\n",
      "    ('continual', 'end', tensor([-0.0149])),\n",
      "    ('change', 'adolescence', tensor([0.4237])),\n",
      "    ('change', 'growth', tensor([0.5128])),\n",
      "    ('change', 'cessation', tensor([0.4516])),\n",
      "    ('change', 'development', tensor([0.4656])),\n",
      "    ('change', 'end', tensor([0.3384])),\n",
      "    ('life', 'adolescence', tensor([0.3947])),\n",
      "    ('life', 'growth', tensor([0.4573])),\n",
      "    ('life', 'cessation', tensor([0.3214])),\n",
      "    ('life', 'development', tensor([0.5626])),\n",
      "    ('life', 'end', tensor([0.2971])),\n",
      "    ('essence', 'adolescence', tensor([0.3083])),\n",
      "    ('essence', 'growth', tensor([0.3390])),\n",
      "    ('essence', 'cessation', tensor([0.3846])),\n",
      "    ('essence', 'development', tensor([0.2858])),\n",
      "    ('essence', 'end', tensor([0.4063]))]\n",
      "[   ('adolescence', 'prowess', tensor([0.4428])),\n",
      "    ('adolescence', 'skill', tensor([0.4431])),\n",
      "    ('adolescence', 'physical', tensor([0.3491])),\n",
      "    ('adolescence', 'development', tensor([0.4450])),\n",
      "    ('adolescence', 'mental', tensor([0.4037])),\n",
      "    ('growth', 'prowess', tensor([0.4418])),\n",
      "    ('growth', 'skill', tensor([0.4462])),\n",
      "    ('growth', 'physical', tensor([0.4198])),\n",
      "    ('growth', 'development', tensor([0.4781])),\n",
      "    ('growth', 'mental', tensor([0.4200])),\n",
      "    ('cessation', 'prowess', tensor([0.3677])),\n",
      "    ('cessation', 'skill', tensor([0.3634])),\n",
      "    ('cessation', 'physical', tensor([0.4180])),\n",
      "    ('cessation', 'development', tensor([0.4457])),\n",
      "    ('cessation', 'mental', tensor([0.4155])),\n",
      "    ('development', 'prowess', tensor([0.4337])),\n",
      "    ('development', 'skill', tensor([0.4110])),\n",
      "    ('development', 'physical', tensor([0.3330])),\n",
      "    ('development', 'development', tensor([0.5054])),\n",
      "    ('development', 'mental', tensor([0.4023])),\n",
      "    ('end', 'prowess', tensor([0.3514])),\n",
      "    ('end', 'skill', tensor([0.3748])),\n",
      "    ('end', 'physical', tensor([0.3749])),\n",
      "    ('end', 'development', tensor([0.4276])),\n",
      "    ('end', 'mental', tensor([0.3419]))]\n"
     ]
    },
    {
     "data": {
      "application/javascript": [
       "\n",
       "            setTimeout(function() {\n",
       "                var nbb_cell_id = 18;\n",
       "                var nbb_unformatted_code = \"rows_to_test = 3\\n\\nfor i, row in enumerate(data[:rows_to_test]):\\n    if i + 1 == len(data[:rows_to_test]):\\n        break\\n\\n    first_sentence = row\\n    second_sentence = data[i + 1]\\n    keywords_first = keywords_lib.get_keywords(row)\\n    keywords_second = keywords_lib.get_keywords(data[i + 1])\\n\\n    word_comparisons = embedding_lib.compare_keywords(\\n        first_sentence, second_sentence, keywords_first, keywords_second\\n    )\\n\\n    pp.pprint(word_comparisons)\";\n",
       "                var nbb_formatted_code = \"rows_to_test = 3\\n\\nfor i, row in enumerate(data[:rows_to_test]):\\n    if i + 1 == len(data[:rows_to_test]):\\n        break\\n\\n    first_sentence = row\\n    second_sentence = data[i + 1]\\n    keywords_first = keywords_lib.get_keywords(row)\\n    keywords_second = keywords_lib.get_keywords(data[i + 1])\\n\\n    word_comparisons = embedding_lib.compare_keywords(\\n        first_sentence, second_sentence, keywords_first, keywords_second\\n    )\\n\\n    pp.pprint(word_comparisons)\";\n",
       "                var nbb_cells = Jupyter.notebook.get_cells();\n",
       "                for (var i = 0; i < nbb_cells.length; ++i) {\n",
       "                    if (nbb_cells[i].input_prompt_number == nbb_cell_id) {\n",
       "                        if (nbb_cells[i].get_text() == nbb_unformatted_code) {\n",
       "                             nbb_cells[i].set_text(nbb_formatted_code);\n",
       "                        }\n",
       "                        break;\n",
       "                    }\n",
       "                }\n",
       "            }, 500);\n",
       "            "
      ],
      "text/plain": [
       "<IPython.core.display.Javascript object>"
      ]
     },
     "metadata": {},
     "output_type": "display_data"
    }
   ],
   "source": [
    "rows_to_test = 3\n",
    "\n",
    "for i, row in enumerate(data[:rows_to_test]):\n",
    "    if i + 1 == len(data[:rows_to_test]):\n",
    "        break\n",
    "\n",
    "    first_sentence = row\n",
    "    second_sentence = data[i + 1]\n",
    "    keywords_first = keywords_lib.get_keywords(row)\n",
    "    keywords_second = keywords_lib.get_keywords(data[i + 1])\n",
    "\n",
    "    word_comparisons = embedding_lib.compare_keywords(\n",
    "        first_sentence, second_sentence, keywords_first, keywords_second\n",
    "    )\n",
    "\n",
    "    pp.pprint(word_comparisons)"
   ]
  },
  {
   "cell_type": "code",
   "execution_count": null,
   "id": "4b255cbd",
   "metadata": {},
   "outputs": [],
   "source": []
  }
 ],
 "metadata": {
  "kernelspec": {
   "display_name": "bert-keywords",
   "language": "python",
   "name": "bert-keywords"
  },
  "language_info": {
   "codemirror_mode": {
    "name": "ipython",
    "version": 3
   },
   "file_extension": ".py",
   "mimetype": "text/x-python",
   "name": "python",
   "nbconvert_exporter": "python",
   "pygments_lexer": "ipython3",
   "version": "3.9.15"
  }
 },
 "nbformat": 4,
 "nbformat_minor": 5
}
