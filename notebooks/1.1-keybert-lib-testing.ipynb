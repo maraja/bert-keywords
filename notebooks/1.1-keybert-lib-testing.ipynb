{
 "cells": [
  {
   "cell_type": "code",
   "execution_count": 3,
   "id": "549684f8",
   "metadata": {},
   "outputs": [
    {
     "name": "stdout",
     "output_type": "stream",
     "text": [
      "The autoreload extension is already loaded. To reload it, use:\n",
      "  %reload_ext autoreload\n"
     ]
    }
   ],
   "source": [
    "%load_ext autoreload\n",
    "%autoreload 2\n",
    "\n",
    "import sys, os\n",
    "import config\n",
    "\n",
    "config.root_path = os.path.abspath(os.path.join(os.getcwd(), \"..\"))\n",
    "sys.path.insert(0, config.root_path)"
   ]
  },
  {
   "cell_type": "code",
   "execution_count": 4,
   "id": "95b2f43a",
   "metadata": {},
   "outputs": [],
   "source": [
    "from src.keywords import Keywords"
   ]
  },
  {
   "cell_type": "code",
   "execution_count": 9,
   "id": "79b9a37b",
   "metadata": {},
   "outputs": [
    {
     "data": {
      "text/plain": [
       "[[('sentence', 0.7662)], [('sentence', 0.7259)]]"
      ]
     },
     "execution_count": 9,
     "metadata": {},
     "output_type": "execute_result"
    }
   ],
   "source": [
    "keywords_helper = Keywords()\n",
    "keywords_helper.get_keywords(['this is a sentence', 'this is another sentence'])"
   ]
  },
  {
   "cell_type": "code",
   "execution_count": null,
   "id": "919ae2a3",
   "metadata": {},
   "outputs": [],
   "source": []
  }
 ],
 "metadata": {
  "kernelspec": {
   "display_name": "bert-keywords",
   "language": "python",
   "name": "bert-keywords"
  },
  "language_info": {
   "codemirror_mode": {
    "name": "ipython",
    "version": 3
   },
   "file_extension": ".py",
   "mimetype": "text/x-python",
   "name": "python",
   "nbconvert_exporter": "python",
   "pygments_lexer": "ipython3",
   "version": "3.9.15"
  }
 },
 "nbformat": 4,
 "nbformat_minor": 5
}
